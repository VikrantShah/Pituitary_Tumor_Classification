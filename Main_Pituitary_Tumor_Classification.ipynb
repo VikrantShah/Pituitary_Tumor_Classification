{
 "cells": [
  {
   "cell_type": "markdown",
   "metadata": {},
   "source": [
    "# Importing the Libraries"
   ]
  },
  {
   "cell_type": "code",
   "execution_count": 1,
   "metadata": {},
   "outputs": [],
   "source": [
    "from tensorflow import keras\n",
    "from tensorflow.keras.preprocessing.image import ImageDataGenerator\n",
    "from tensorflow.keras.models import Sequential\n",
    "from tensorflow.keras.layers import Conv2D\n",
    "from tensorflow.keras.layers import MaxPooling2D\n",
    "from tensorflow.keras.layers import Flatten\n",
    "from tensorflow.keras.layers import Dense\n",
    "from tensorflow.keras.callbacks import EarlyStopping\n",
    "from tensorflow.keras.callbacks import ModelCheckpoint\n",
    "import matplotlib.pyplot as plt"
   ]
  },
  {
   "cell_type": "markdown",
   "metadata": {},
   "source": [
    "# Getting and loading the Training, Testing and Validation set"
   ]
  },
  {
   "cell_type": "code",
   "execution_count": 2,
   "metadata": {},
   "outputs": [],
   "source": [
    "train_path = r\"C:\\AI-DocHelper_Models_Code\\Pituitary_Tumor_Classification\\dataset\\train\"\n",
    "validation_path = r\"C:\\AI-DocHelper_Models_Code\\Pituitary_Tumor_Classification\\dataset\\val\"\n",
    "test_path = r\"C:\\AI-DocHelper_Models_Code\\Pituitary_Tumor_Classification\\dataset\\test\""
   ]
  },
  {
   "cell_type": "code",
   "execution_count": 3,
   "metadata": {},
   "outputs": [],
   "source": [
    "batch_size = 16\n",
    "img_size = (256, 256)"
   ]
  },
  {
   "cell_type": "code",
   "execution_count": 4,
   "metadata": {},
   "outputs": [],
   "source": [
    "train_datagen = ImageDataGenerator(rescale = 1./255,\n",
    "                                  rotation_range = 40.,\n",
    "                                  width_shift_range = 0.2,\n",
    "                                  height_shift_range = 0.2,\n",
    "                                  shear_range = 0.2,\n",
    "                                  zoom_range = 0.2,\n",
    "                                  horizontal_flip = True)\n",
    "\n",
    "validation_datagen = ImageDataGenerator(rescale = 1./255)"
   ]
  },
  {
   "cell_type": "code",
   "execution_count": 5,
   "metadata": {},
   "outputs": [
    {
     "name": "stdout",
     "output_type": "stream",
     "text": [
      "Found 1050 images belonging to 2 classes.\n",
      "Found 350 images belonging to 2 classes.\n",
      "Found 1 images belonging to 2 classes.\n"
     ]
    }
   ],
   "source": [
    "train_generator = train_datagen.flow_from_directory(train_path,\n",
    "                                                   target_size = img_size,\n",
    "                                                   batch_size = batch_size,\n",
    "                                                    color_mode = \"grayscale\",\n",
    "                                                   class_mode = \"binary\")\n",
    "\n",
    "validation_generator = validation_datagen.flow_from_directory(validation_path,\n",
    "                                                             target_size = img_size,\n",
    "                                                             batch_size = batch_size,\n",
    "                                                              color_mode = \"grayscale\",\n",
    "                                                             class_mode = \"binary\")\n",
    "\n",
    "test_generator = validation_datagen.flow_from_directory(test_path,\n",
    "                                                       target_size = img_size,\n",
    "                                                       batch_size = batch_size,\n",
    "                                                       color_mode = \"grayscale\",\n",
    "                                                       class_mode = \"binary\",\n",
    "                                                       shuffle = False)"
   ]
  },
  {
   "cell_type": "markdown",
   "metadata": {},
   "source": [
    "# Getting the class names"
   ]
  },
  {
   "cell_type": "code",
   "execution_count": 6,
   "metadata": {},
   "outputs": [
    {
     "name": "stdout",
     "output_type": "stream",
     "text": [
      "{0: 'no_tumor', 1: 'pituitary_tumor'}\n"
     ]
    }
   ],
   "source": [
    "temp_classes = dict(train_generator.class_indices)\n",
    "\n",
    "classes = dict()\n",
    "for (k, v) in temp_classes.items() :\n",
    "    classes[v] = k\n",
    "print(classes)"
   ]
  },
  {
   "cell_type": "markdown",
   "metadata": {},
   "source": [
    "# Building the CNN"
   ]
  },
  {
   "cell_type": "markdown",
   "metadata": {},
   "source": [
    "## Initalising the CNN"
   ]
  },
  {
   "cell_type": "code",
   "execution_count": 7,
   "metadata": {},
   "outputs": [],
   "source": [
    "model = Sequential()"
   ]
  },
  {
   "cell_type": "markdown",
   "metadata": {},
   "source": [
    "# Adding the layers"
   ]
  },
  {
   "cell_type": "markdown",
   "metadata": {},
   "source": [
    "## Adding the First Convolutional and Pooling layers"
   ]
  },
  {
   "cell_type": "code",
   "execution_count": 8,
   "metadata": {},
   "outputs": [],
   "source": [
    "model.add(Conv2D(32, (3, 3), input_shape = (img_size[0], img_size[1], 1), activation = \"relu\"))\n",
    "model.add(MaxPooling2D(pool_size = (2, 2)))"
   ]
  },
  {
   "cell_type": "markdown",
   "metadata": {},
   "source": [
    "## Adding the Second Convolutional and Pooling layers"
   ]
  },
  {
   "cell_type": "code",
   "execution_count": 9,
   "metadata": {},
   "outputs": [],
   "source": [
    "model.add(Conv2D(32, (3, 3), input_shape = (img_size[0], img_size[1], 1), activation = \"relu\"))\n",
    "model.add(MaxPooling2D(pool_size = (2, 2)))"
   ]
  },
  {
   "cell_type": "markdown",
   "metadata": {},
   "source": [
    "## Adding the Third Convolutional and Pooling layers"
   ]
  },
  {
   "cell_type": "code",
   "execution_count": 10,
   "metadata": {},
   "outputs": [],
   "source": [
    "model.add(Conv2D(64, (3, 3), input_shape = (img_size[0], img_size[1], 1), activation = \"relu\"))\n",
    "model.add(MaxPooling2D(pool_size = (2, 2)))"
   ]
  },
  {
   "cell_type": "markdown",
   "metadata": {},
   "source": [
    "## Adding the Forth Convolutional and Pooling layers"
   ]
  },
  {
   "cell_type": "code",
   "execution_count": 11,
   "metadata": {},
   "outputs": [],
   "source": [
    "model.add(Conv2D(64, (3, 3), input_shape = (img_size[0], img_size[1], 1), activation = \"relu\"))\n",
    "model.add(MaxPooling2D(pool_size = (2, 2)))"
   ]
  },
  {
   "cell_type": "markdown",
   "metadata": {},
   "source": [
    "## Adding the Fifth Convolutional and Pooling layers"
   ]
  },
  {
   "cell_type": "code",
   "execution_count": 12,
   "metadata": {},
   "outputs": [],
   "source": [
    "model.add(Conv2D(128, (3, 3), input_shape = (img_size[0], img_size[1], 1), activation = \"relu\"))\n",
    "model.add(MaxPooling2D(pool_size = (2, 2)))"
   ]
  },
  {
   "cell_type": "markdown",
   "metadata": {},
   "source": [
    "## Adding the Sixth Convolutional and Pooling layers"
   ]
  },
  {
   "cell_type": "code",
   "execution_count": 13,
   "metadata": {},
   "outputs": [],
   "source": [
    "model.add(Conv2D(128, (3, 3), input_shape = (img_size[0], img_size[1], 1), activation = \"relu\"))\n",
    "model.add(MaxPooling2D(pool_size = (2, 2)))"
   ]
  },
  {
   "cell_type": "markdown",
   "metadata": {},
   "source": [
    "# Flattening all the layers"
   ]
  },
  {
   "cell_type": "code",
   "execution_count": 14,
   "metadata": {},
   "outputs": [],
   "source": [
    "model.add(Flatten())"
   ]
  },
  {
   "cell_type": "markdown",
   "metadata": {},
   "source": [
    "## Adding the First Fully Connected Layer"
   ]
  },
  {
   "cell_type": "code",
   "execution_count": 15,
   "metadata": {},
   "outputs": [],
   "source": [
    "model.add(Dense(units = 128, activation = \"relu\"))"
   ]
  },
  {
   "cell_type": "markdown",
   "metadata": {},
   "source": [
    "## Adding the Second Fully Connected Layer"
   ]
  },
  {
   "cell_type": "code",
   "execution_count": 16,
   "metadata": {},
   "outputs": [],
   "source": [
    "model.add(Dense(units = 64, activation = \"relu\"))"
   ]
  },
  {
   "cell_type": "markdown",
   "metadata": {},
   "source": [
    "## Adding the Third Fully Connected Layer"
   ]
  },
  {
   "cell_type": "code",
   "execution_count": 17,
   "metadata": {},
   "outputs": [],
   "source": [
    "model.add(Dense(units = 32, activation = \"relu\"))"
   ]
  },
  {
   "cell_type": "markdown",
   "metadata": {},
   "source": [
    "## Adding the Final Fully Connected Layer"
   ]
  },
  {
   "cell_type": "code",
   "execution_count": 18,
   "metadata": {},
   "outputs": [],
   "source": [
    "model.add(Dense(units = 1, activation = \"sigmoid\"))"
   ]
  },
  {
   "cell_type": "markdown",
   "metadata": {},
   "source": [
    "## Displaying the model summary"
   ]
  },
  {
   "cell_type": "code",
   "execution_count": 19,
   "metadata": {},
   "outputs": [
    {
     "name": "stdout",
     "output_type": "stream",
     "text": [
      "Model: \"sequential\"\n",
      "_________________________________________________________________\n",
      "Layer (type)                 Output Shape              Param #   \n",
      "=================================================================\n",
      "conv2d (Conv2D)              (None, 254, 254, 32)      320       \n",
      "_________________________________________________________________\n",
      "max_pooling2d (MaxPooling2D) (None, 127, 127, 32)      0         \n",
      "_________________________________________________________________\n",
      "conv2d_1 (Conv2D)            (None, 125, 125, 32)      9248      \n",
      "_________________________________________________________________\n",
      "max_pooling2d_1 (MaxPooling2 (None, 62, 62, 32)        0         \n",
      "_________________________________________________________________\n",
      "conv2d_2 (Conv2D)            (None, 60, 60, 64)        18496     \n",
      "_________________________________________________________________\n",
      "max_pooling2d_2 (MaxPooling2 (None, 30, 30, 64)        0         \n",
      "_________________________________________________________________\n",
      "conv2d_3 (Conv2D)            (None, 28, 28, 64)        36928     \n",
      "_________________________________________________________________\n",
      "max_pooling2d_3 (MaxPooling2 (None, 14, 14, 64)        0         \n",
      "_________________________________________________________________\n",
      "conv2d_4 (Conv2D)            (None, 12, 12, 128)       73856     \n",
      "_________________________________________________________________\n",
      "max_pooling2d_4 (MaxPooling2 (None, 6, 6, 128)         0         \n",
      "_________________________________________________________________\n",
      "conv2d_5 (Conv2D)            (None, 4, 4, 128)         147584    \n",
      "_________________________________________________________________\n",
      "max_pooling2d_5 (MaxPooling2 (None, 2, 2, 128)         0         \n",
      "_________________________________________________________________\n",
      "flatten (Flatten)            (None, 512)               0         \n",
      "_________________________________________________________________\n",
      "dense (Dense)                (None, 128)               65664     \n",
      "_________________________________________________________________\n",
      "dense_1 (Dense)              (None, 64)                8256      \n",
      "_________________________________________________________________\n",
      "dense_2 (Dense)              (None, 32)                2080      \n",
      "_________________________________________________________________\n",
      "dense_3 (Dense)              (None, 1)                 33        \n",
      "=================================================================\n",
      "Total params: 362,465\n",
      "Trainable params: 362,465\n",
      "Non-trainable params: 0\n",
      "_________________________________________________________________\n"
     ]
    }
   ],
   "source": [
    "model.summary()"
   ]
  },
  {
   "cell_type": "markdown",
   "metadata": {},
   "source": [
    "## Compiling the CNN model"
   ]
  },
  {
   "cell_type": "code",
   "execution_count": 20,
   "metadata": {},
   "outputs": [],
   "source": [
    "model.compile(optimizer = \"adam\",\n",
    "             loss = \"binary_crossentropy\", \n",
    "             metrics = [\"accuracy\"])"
   ]
  },
  {
   "cell_type": "markdown",
   "metadata": {},
   "source": [
    "# Training the CNN"
   ]
  },
  {
   "cell_type": "markdown",
   "metadata": {},
   "source": [
    "## Saving the Best model only"
   ]
  },
  {
   "cell_type": "code",
   "execution_count": 21,
   "metadata": {},
   "outputs": [],
   "source": [
    "checkpoint = ModelCheckpoint(filepath = \"pituitary_tumor.h5\",\n",
    "                            save_best_only = True)"
   ]
  },
  {
   "cell_type": "markdown",
   "metadata": {},
   "source": [
    "## Stopping the Training, if there is no improvement"
   ]
  },
  {
   "cell_type": "code",
   "execution_count": 22,
   "metadata": {},
   "outputs": [],
   "source": [
    "earlyStopping = EarlyStopping(monitor=\"val_loss\", \n",
    "                              patience = 10,\n",
    "                             restore_best_weights = True,\n",
    "                             verbose = 1)"
   ]
  },
  {
   "cell_type": "markdown",
   "metadata": {},
   "source": [
    "## Calculating the steps_per_epoch and validation_steps"
   ]
  },
  {
   "cell_type": "code",
   "execution_count": 23,
   "metadata": {},
   "outputs": [
    {
     "name": "stdout",
     "output_type": "stream",
     "text": [
      "66\n",
      "22\n"
     ]
    }
   ],
   "source": [
    "import math\n",
    "\n",
    "batch_size = batch_size\n",
    "training_size = 1050\n",
    "validation_size = 350\n",
    "\n",
    "compute_steps_per_epoch = lambda x : int(math.ceil(1. * x / batch_size))\n",
    "\n",
    "steps_per_epoch = compute_steps_per_epoch(training_size)\n",
    "validation_steps = compute_steps_per_epoch(validation_size)\n",
    "\n",
    "print(steps_per_epoch)\n",
    "print(validation_steps)"
   ]
  },
  {
   "cell_type": "code",
   "execution_count": 24,
   "metadata": {},
   "outputs": [
    {
     "name": "stderr",
     "output_type": "stream",
     "text": [
      "C:\\Users\\RAJ SHAH\\anaconda3\\lib\\site-packages\\tensorflow\\python\\keras\\engine\\training.py:1844: UserWarning: `Model.fit_generator` is deprecated and will be removed in a future version. Please use `Model.fit`, which supports generators.\n",
      "  warnings.warn('`Model.fit_generator` is deprecated and '\n"
     ]
    },
    {
     "name": "stdout",
     "output_type": "stream",
     "text": [
      "Epoch 1/50\n",
      "66/66 [==============================] - 40s 582ms/step - loss: 0.6850 - accuracy: 0.5975 - val_loss: 0.6449 - val_accuracy: 0.6429\n",
      "Epoch 2/50\n",
      "66/66 [==============================] - 37s 554ms/step - loss: 0.6596 - accuracy: 0.6240 - val_loss: 0.6544 - val_accuracy: 0.6429\n",
      "Epoch 3/50\n",
      "66/66 [==============================] - 37s 554ms/step - loss: 0.6052 - accuracy: 0.7194 - val_loss: 0.3929 - val_accuracy: 0.8486\n",
      "Epoch 4/50\n",
      "66/66 [==============================] - 37s 553ms/step - loss: 0.4382 - accuracy: 0.8221 - val_loss: 0.4091 - val_accuracy: 0.8886\n",
      "Epoch 5/50\n",
      "66/66 [==============================] - 37s 552ms/step - loss: 0.3780 - accuracy: 0.8550 - val_loss: 0.3530 - val_accuracy: 0.8514\n",
      "Epoch 6/50\n",
      "66/66 [==============================] - 36s 539ms/step - loss: 0.3436 - accuracy: 0.8788 - val_loss: 0.3674 - val_accuracy: 0.8229\n",
      "Epoch 7/50\n",
      "66/66 [==============================] - 36s 551ms/step - loss: 0.3597 - accuracy: 0.8746 - val_loss: 0.2825 - val_accuracy: 0.8971\n",
      "Epoch 8/50\n",
      "66/66 [==============================] - 36s 550ms/step - loss: 0.3111 - accuracy: 0.8757 - val_loss: 0.2613 - val_accuracy: 0.8971\n",
      "Epoch 9/50\n",
      "66/66 [==============================] - 36s 547ms/step - loss: 0.2411 - accuracy: 0.9073 - val_loss: 0.2421 - val_accuracy: 0.9229\n",
      "Epoch 10/50\n",
      "66/66 [==============================] - 36s 549ms/step - loss: 0.2555 - accuracy: 0.9037 - val_loss: 0.2400 - val_accuracy: 0.9057\n",
      "Epoch 11/50\n",
      "66/66 [==============================] - 36s 546ms/step - loss: 0.2583 - accuracy: 0.9058 - val_loss: 0.2003 - val_accuracy: 0.9400\n",
      "Epoch 12/50\n",
      "66/66 [==============================] - 37s 558ms/step - loss: 0.2139 - accuracy: 0.9218 - val_loss: 0.1812 - val_accuracy: 0.9514\n",
      "Epoch 13/50\n",
      "66/66 [==============================] - 37s 561ms/step - loss: 0.2306 - accuracy: 0.9180 - val_loss: 0.2043 - val_accuracy: 0.9200\n",
      "Epoch 14/50\n",
      "66/66 [==============================] - 37s 553ms/step - loss: 0.2082 - accuracy: 0.9163 - val_loss: 0.2480 - val_accuracy: 0.9114\n",
      "Epoch 15/50\n",
      "66/66 [==============================] - 36s 550ms/step - loss: 0.1510 - accuracy: 0.9461 - val_loss: 0.1870 - val_accuracy: 0.9257\n",
      "Epoch 16/50\n",
      "66/66 [==============================] - 36s 548ms/step - loss: 0.1544 - accuracy: 0.9332 - val_loss: 0.1192 - val_accuracy: 0.9429\n",
      "Epoch 17/50\n",
      "66/66 [==============================] - 36s 547ms/step - loss: 0.1772 - accuracy: 0.9374 - val_loss: 0.1092 - val_accuracy: 0.9686\n",
      "Epoch 18/50\n",
      "66/66 [==============================] - 36s 548ms/step - loss: 0.1226 - accuracy: 0.9505 - val_loss: 0.1248 - val_accuracy: 0.9571\n",
      "Epoch 19/50\n",
      "66/66 [==============================] - 37s 555ms/step - loss: 0.1907 - accuracy: 0.9374 - val_loss: 0.1075 - val_accuracy: 0.9629\n",
      "Epoch 20/50\n",
      "66/66 [==============================] - 36s 550ms/step - loss: 0.1656 - accuracy: 0.9411 - val_loss: 0.1506 - val_accuracy: 0.9400\n",
      "Epoch 21/50\n",
      "66/66 [==============================] - 38s 567ms/step - loss: 0.1370 - accuracy: 0.9462 - val_loss: 0.1076 - val_accuracy: 0.9571\n",
      "Epoch 22/50\n",
      "66/66 [==============================] - 37s 564ms/step - loss: 0.1287 - accuracy: 0.9470 - val_loss: 0.0756 - val_accuracy: 0.9686\n",
      "Epoch 23/50\n",
      "66/66 [==============================] - 38s 574ms/step - loss: 0.1087 - accuracy: 0.9589 - val_loss: 0.0971 - val_accuracy: 0.9743\n",
      "Epoch 24/50\n",
      "66/66 [==============================] - 40s 608ms/step - loss: 0.1625 - accuracy: 0.9440 - val_loss: 0.0926 - val_accuracy: 0.9686\n",
      "Epoch 25/50\n",
      "66/66 [==============================] - 38s 568ms/step - loss: 0.0936 - accuracy: 0.9678 - val_loss: 0.0652 - val_accuracy: 0.9771\n",
      "Epoch 26/50\n",
      "66/66 [==============================] - 37s 555ms/step - loss: 0.1310 - accuracy: 0.9550 - val_loss: 0.0912 - val_accuracy: 0.9686\n",
      "Epoch 27/50\n",
      "66/66 [==============================] - 37s 555ms/step - loss: 0.0953 - accuracy: 0.9594 - val_loss: 0.0785 - val_accuracy: 0.9686\n",
      "Epoch 28/50\n",
      "66/66 [==============================] - 39s 589ms/step - loss: 0.1303 - accuracy: 0.9422 - val_loss: 0.0844 - val_accuracy: 0.9771\n",
      "Epoch 29/50\n",
      "66/66 [==============================] - 39s 584ms/step - loss: 0.0638 - accuracy: 0.9703 - val_loss: 0.0304 - val_accuracy: 0.9886\n",
      "Epoch 30/50\n",
      "66/66 [==============================] - 38s 573ms/step - loss: 0.0693 - accuracy: 0.9744 - val_loss: 0.0580 - val_accuracy: 0.9800\n",
      "Epoch 31/50\n",
      "66/66 [==============================] - 37s 564ms/step - loss: 0.0876 - accuracy: 0.9731 - val_loss: 0.0625 - val_accuracy: 0.9743\n",
      "Epoch 32/50\n",
      "66/66 [==============================] - 35s 533ms/step - loss: 0.0716 - accuracy: 0.9732 - val_loss: 0.0507 - val_accuracy: 0.9857\n",
      "Epoch 33/50\n",
      "66/66 [==============================] - 35s 530ms/step - loss: 0.0701 - accuracy: 0.9809 - val_loss: 0.0458 - val_accuracy: 0.9886\n",
      "Epoch 34/50\n",
      "66/66 [==============================] - 35s 533ms/step - loss: 0.0434 - accuracy: 0.9828 - val_loss: 0.0820 - val_accuracy: 0.9800\n",
      "Epoch 35/50\n",
      "66/66 [==============================] - 35s 530ms/step - loss: 0.0629 - accuracy: 0.9801 - val_loss: 0.0401 - val_accuracy: 0.9857\n",
      "Epoch 36/50\n",
      "66/66 [==============================] - 39s 597ms/step - loss: 0.0530 - accuracy: 0.9806 - val_loss: 0.0559 - val_accuracy: 0.9857\n",
      "Epoch 37/50\n",
      "66/66 [==============================] - 43s 657ms/step - loss: 0.0940 - accuracy: 0.9574 - val_loss: 0.0631 - val_accuracy: 0.9771\n",
      "Epoch 38/50\n",
      "66/66 [==============================] - 44s 668ms/step - loss: 0.0872 - accuracy: 0.9690 - val_loss: 0.0501 - val_accuracy: 0.9857\n",
      "Epoch 39/50\n",
      "66/66 [==============================] - 38s 565ms/step - loss: 0.0333 - accuracy: 0.9906 - val_loss: 0.0499 - val_accuracy: 0.9771\n",
      "Restoring model weights from the end of the best epoch.\n",
      "Epoch 00039: early stopping\n"
     ]
    }
   ],
   "source": [
    "history = model.fit_generator(train_generator,\n",
    "                             steps_per_epoch = steps_per_epoch,\n",
    "                             epochs = 50,\n",
    "                             validation_data = validation_generator,\n",
    "                             validation_steps = validation_steps,\n",
    "                             callbacks = [checkpoint, earlyStopping])"
   ]
  },
  {
   "cell_type": "markdown",
   "metadata": {},
   "source": [
    "# Saving the model"
   ]
  },
  {
   "cell_type": "code",
   "execution_count": 25,
   "metadata": {},
   "outputs": [],
   "source": [
    "model_json = model.to_json()\n",
    "\n",
    "with open(\"pituitary_tumor.json\", \"w\") as json_file :\n",
    "    json_file.write(model_json)"
   ]
  },
  {
   "cell_type": "markdown",
   "metadata": {},
   "source": [
    "# Visualizing the Training Performance"
   ]
  },
  {
   "cell_type": "code",
   "execution_count": 26,
   "metadata": {},
   "outputs": [
    {
     "data": {
      "image/png": "[encoded data removed]",
      "text/plain": [
       "<Figure size 864x864 with 2 Axes>"
      ]
     },
     "metadata": {
      "needs_background": "light"
     },
     "output_type": "display_data"
    }
   ],
   "source": [
    "plt.figure(figsize = (12, 12))\n",
    "\n",
    "plt.subplot(2, 2, 1)\n",
    "plt.plot(history.history[\"accuracy\"], label = \"accuracy\")\n",
    "plt.plot(history.history[\"val_accuracy\"], label = \"val_accuracy\")\n",
    "plt.legend()\n",
    "plt.grid()\n",
    "plt.title(\"Accuracy Evaluation\")\n",
    "\n",
    "plt.subplot(2, 2, 2)\n",
    "plt.plot(history.history[\"loss\"], label = \"loss\")\n",
    "plt.plot(history.history[\"val_loss\"], label = \"val_loss\")\n",
    "plt.grid()\n",
    "plt.legend()\n",
    "plt.title(\"Loss Evaluation\")\n",
    "\n",
    "plt.savefig(\"pituitary_tumor_model_history.jpg\")"
   ]
  },
  {
   "cell_type": "markdown",
   "metadata": {},
   "source": [
    "# Getting the accuracy for test set"
   ]
  },
  {
   "cell_type": "code",
   "execution_count": 27,
   "metadata": {},
   "outputs": [
    {
     "name": "stdout",
     "output_type": "stream",
     "text": [
      "22/22 [==============================] - 3s 142ms/step - loss: 0.0304 - accuracy: 0.9886\n",
      "[0.030360732227563858, 0.9885714054107666]\n"
     ]
    }
   ],
   "source": [
    "test_accuracy = model.evaluate(validation_generator)\n",
    "print(test_accuracy)"
   ]
  },
  {
   "cell_type": "code",
   "execution_count": 28,
   "metadata": {},
   "outputs": [
    {
     "name": "stdout",
     "output_type": "stream",
     "text": [
      "22/22 [==============================] - 4s 143ms/step\n"
     ]
    },
    {
     "data": {
      "text/plain": [
       "array([[9.93586779e-01],\n",
       "       [3.93068790e-03],\n",
       "       [9.99971569e-01],\n",
       "       [7.30891270e-06],\n",
       "       [9.99877155e-01],\n",
       "       [1.00000000e+00],\n",
       "       [1.50157213e-01],\n",
       "       [9.98800159e-01],\n",
       "       [8.73798132e-03],\n",
       "       [1.46627426e-04],\n",
       "       [9.99986172e-01],\n",
       "       [9.98655200e-01],\n",
       "       [9.99422610e-01],\n",
       "       [6.31093979e-04],\n",
       "       [9.97620940e-01],\n",
       "       [9.99816298e-01],\n",
       "       [9.99872804e-01],\n",
       "       [9.99999046e-01],\n",
       "       [9.98884559e-01],\n",
       "       [9.99998808e-01],\n",
       "       [9.99986649e-01],\n",
       "       [9.99700189e-01],\n",
       "       [9.99913812e-01],\n",
       "       [9.88503635e-01],\n",
       "       [9.99651313e-01],\n",
       "       [9.74079907e-01],\n",
       "       [9.99998808e-01],\n",
       "       [9.93885994e-01],\n",
       "       [9.54172850e-01],\n",
       "       [6.27667250e-05],\n",
       "       [9.96504188e-01],\n",
       "       [1.19873303e-05],\n",
       "       [9.99998569e-01],\n",
       "       [9.99812007e-01],\n",
       "       [9.98917937e-01],\n",
       "       [9.99819517e-01],\n",
       "       [9.99584317e-01],\n",
       "       [9.84843671e-01],\n",
       "       [1.00000000e+00],\n",
       "       [4.04122472e-03],\n",
       "       [9.99946833e-01],\n",
       "       [9.99999821e-01],\n",
       "       [1.17225945e-02],\n",
       "       [1.99633791e-06],\n",
       "       [8.98307576e-07],\n",
       "       [1.00000000e+00],\n",
       "       [1.02780113e-08],\n",
       "       [9.99936163e-01],\n",
       "       [9.99969482e-01],\n",
       "       [9.96743321e-01],\n",
       "       [2.19941139e-04],\n",
       "       [2.84978628e-01],\n",
       "       [6.81187272e-01],\n",
       "       [9.97478187e-01],\n",
       "       [4.79873142e-06],\n",
       "       [4.89498325e-06],\n",
       "       [9.99991775e-01],\n",
       "       [9.00194049e-03],\n",
       "       [9.51491594e-02],\n",
       "       [9.99999762e-01],\n",
       "       [9.99999046e-01],\n",
       "       [9.77282763e-01],\n",
       "       [9.99995589e-01],\n",
       "       [9.95150030e-01],\n",
       "       [9.99325752e-01],\n",
       "       [9.99932170e-01],\n",
       "       [9.89190936e-01],\n",
       "       [5.85177541e-03],\n",
       "       [6.35978580e-03],\n",
       "       [9.99857664e-01],\n",
       "       [9.99046326e-01],\n",
       "       [9.99464750e-01],\n",
       "       [2.07017660e-02],\n",
       "       [9.99980211e-01],\n",
       "       [9.94334579e-01],\n",
       "       [9.99151945e-01],\n",
       "       [1.13977998e-01],\n",
       "       [2.23200085e-15],\n",
       "       [9.97093797e-01],\n",
       "       [8.26167046e-09],\n",
       "       [8.30619454e-01],\n",
       "       [1.70373871e-12],\n",
       "       [9.99756694e-01],\n",
       "       [2.54030526e-02],\n",
       "       [8.47170583e-08],\n",
       "       [9.99960542e-01],\n",
       "       [2.53707170e-04],\n",
       "       [1.87300702e-06],\n",
       "       [1.54472535e-09],\n",
       "       [9.99944031e-01],\n",
       "       [9.99991775e-01],\n",
       "       [1.29044056e-04],\n",
       "       [8.13734531e-03],\n",
       "       [9.99264121e-01],\n",
       "       [9.99947906e-01],\n",
       "       [2.32905149e-04],\n",
       "       [9.99985814e-01],\n",
       "       [9.99685168e-01],\n",
       "       [9.93640900e-01],\n",
       "       [1.61826611e-03],\n",
       "       [9.99998093e-01],\n",
       "       [9.99769509e-01],\n",
       "       [9.99997020e-01],\n",
       "       [4.89498325e-06],\n",
       "       [3.97035480e-03],\n",
       "       [1.00000000e+00],\n",
       "       [9.99110222e-01],\n",
       "       [6.17736936e-01],\n",
       "       [9.98031974e-01],\n",
       "       [9.99992728e-01],\n",
       "       [1.70373871e-12],\n",
       "       [9.99980450e-01],\n",
       "       [9.48370218e-01],\n",
       "       [9.99991417e-01],\n",
       "       [9.80031013e-01],\n",
       "       [4.70505802e-06],\n",
       "       [8.40803523e-07],\n",
       "       [1.42985130e-06],\n",
       "       [9.79835510e-01],\n",
       "       [7.89840221e-01],\n",
       "       [9.99698997e-01],\n",
       "       [8.53747129e-04],\n",
       "       [1.97650274e-09],\n",
       "       [9.95594680e-01],\n",
       "       [3.20627987e-06],\n",
       "       [1.72099661e-12],\n",
       "       [9.99984145e-01],\n",
       "       [2.74042480e-13],\n",
       "       [9.37386930e-01],\n",
       "       [9.99998927e-01],\n",
       "       [2.23200085e-15],\n",
       "       [9.99910235e-01],\n",
       "       [9.99996662e-01],\n",
       "       [9.96102989e-01],\n",
       "       [9.98915553e-01],\n",
       "       [3.73857461e-06],\n",
       "       [9.99529719e-01],\n",
       "       [9.99999762e-01],\n",
       "       [9.99764562e-01],\n",
       "       [9.99879301e-01],\n",
       "       [9.99954581e-01],\n",
       "       [2.23200085e-15],\n",
       "       [2.55912542e-04],\n",
       "       [9.99598980e-01],\n",
       "       [1.38756931e-02],\n",
       "       [6.66898643e-07],\n",
       "       [9.92991447e-01],\n",
       "       [9.99982715e-01],\n",
       "       [1.02880922e-08],\n",
       "       [6.81187272e-01],\n",
       "       [1.00000000e+00],\n",
       "       [5.22397565e-16],\n",
       "       [9.99954879e-01],\n",
       "       [1.17225945e-02],\n",
       "       [9.99441028e-01],\n",
       "       [9.99774516e-01],\n",
       "       [6.58110082e-01],\n",
       "       [9.99999523e-01],\n",
       "       [6.31093979e-04],\n",
       "       [9.99928653e-01],\n",
       "       [9.97049689e-01],\n",
       "       [9.99973178e-01],\n",
       "       [1.16770207e-04],\n",
       "       [9.99998629e-01],\n",
       "       [6.94689743e-06],\n",
       "       [5.96180558e-03],\n",
       "       [9.99476790e-01],\n",
       "       [6.14106597e-08],\n",
       "       [1.31309914e-08],\n",
       "       [1.13522410e-02],\n",
       "       [9.99648571e-01],\n",
       "       [3.52430344e-03],\n",
       "       [3.23644280e-03],\n",
       "       [2.39825167e-05],\n",
       "       [9.98944998e-01],\n",
       "       [5.07096265e-05],\n",
       "       [8.55305261e-05],\n",
       "       [9.99775767e-01],\n",
       "       [9.99987960e-01],\n",
       "       [7.31336831e-06],\n",
       "       [9.99998331e-01],\n",
       "       [9.85167027e-01],\n",
       "       [9.99991775e-01],\n",
       "       [1.90258026e-04],\n",
       "       [9.24079239e-01],\n",
       "       [1.17225945e-02],\n",
       "       [9.96943951e-01],\n",
       "       [9.89569783e-01],\n",
       "       [1.21998673e-04],\n",
       "       [2.23200085e-15],\n",
       "       [9.99972403e-01],\n",
       "       [9.95018482e-01],\n",
       "       [4.27396371e-05],\n",
       "       [9.96502876e-01],\n",
       "       [1.17225945e-02],\n",
       "       [7.42077827e-04],\n",
       "       [9.97800648e-01],\n",
       "       [9.99770582e-01],\n",
       "       [1.02880922e-08],\n",
       "       [9.99944985e-01],\n",
       "       [9.99989986e-01],\n",
       "       [9.99998868e-01],\n",
       "       [9.95896220e-01],\n",
       "       [9.99999762e-01],\n",
       "       [3.36101741e-01],\n",
       "       [9.99699712e-01],\n",
       "       [9.99999762e-01],\n",
       "       [9.98482466e-01],\n",
       "       [9.98479664e-01],\n",
       "       [1.44812465e-03],\n",
       "       [9.99967456e-01],\n",
       "       [9.99854922e-01],\n",
       "       [9.98765647e-01],\n",
       "       [7.53772933e-10],\n",
       "       [8.05632590e-05],\n",
       "       [9.50641751e-01],\n",
       "       [9.99498904e-01],\n",
       "       [9.99905407e-01],\n",
       "       [9.80705023e-04],\n",
       "       [9.99593198e-01],\n",
       "       [1.37448311e-04],\n",
       "       [9.97971892e-01],\n",
       "       [9.99915361e-01],\n",
       "       [9.96525824e-01],\n",
       "       [9.99984145e-01],\n",
       "       [9.65637743e-01],\n",
       "       [9.97824609e-01],\n",
       "       [9.99734998e-01],\n",
       "       [9.99152303e-01],\n",
       "       [8.73798132e-03],\n",
       "       [9.89076734e-01],\n",
       "       [9.99974370e-01],\n",
       "       [9.99996066e-01],\n",
       "       [3.28430235e-02],\n",
       "       [9.99999821e-01],\n",
       "       [9.97310877e-01],\n",
       "       [9.90193665e-01],\n",
       "       [2.23200085e-15],\n",
       "       [9.99996543e-01],\n",
       "       [8.05632590e-05],\n",
       "       [9.99858618e-01],\n",
       "       [1.00000000e+00],\n",
       "       [1.36840257e-12],\n",
       "       [1.89885497e-03],\n",
       "       [9.97048616e-01],\n",
       "       [9.99999762e-01],\n",
       "       [1.00499886e-10],\n",
       "       [6.27344847e-03],\n",
       "       [9.98017192e-01],\n",
       "       [9.45389807e-01],\n",
       "       [1.02780113e-08],\n",
       "       [1.55410919e-06],\n",
       "       [9.98007953e-01],\n",
       "       [9.99798834e-01],\n",
       "       [1.44213438e-04],\n",
       "       [9.96232986e-01],\n",
       "       [9.96439934e-01],\n",
       "       [9.97571766e-01],\n",
       "       [8.61581917e-09],\n",
       "       [1.36673450e-04],\n",
       "       [8.55170020e-14],\n",
       "       [9.99826014e-01],\n",
       "       [9.99976397e-01],\n",
       "       [9.99908328e-01],\n",
       "       [9.99899030e-01],\n",
       "       [9.98580575e-01],\n",
       "       [9.99993443e-01],\n",
       "       [9.99996543e-01],\n",
       "       [9.99987602e-01],\n",
       "       [9.99884605e-01],\n",
       "       [1.17333420e-05],\n",
       "       [9.99160528e-01],\n",
       "       [9.66256261e-01],\n",
       "       [9.96690214e-01],\n",
       "       [2.49890089e-02],\n",
       "       [9.97943282e-01],\n",
       "       [9.99907017e-01],\n",
       "       [9.99992251e-01],\n",
       "       [9.99963939e-01],\n",
       "       [3.22639942e-04],\n",
       "       [9.97703850e-01],\n",
       "       [2.32368708e-04],\n",
       "       [9.99929786e-01],\n",
       "       [1.02227926e-03],\n",
       "       [9.99956608e-01],\n",
       "       [8.55305261e-05],\n",
       "       [9.99640048e-01],\n",
       "       [1.13466382e-03],\n",
       "       [1.00000000e+00],\n",
       "       [9.99952495e-01],\n",
       "       [9.99999762e-01],\n",
       "       [9.99759793e-01],\n",
       "       [9.99914944e-01],\n",
       "       [9.99982119e-01],\n",
       "       [9.99959707e-01],\n",
       "       [9.99967635e-01],\n",
       "       [9.98602271e-01],\n",
       "       [2.17560601e-08],\n",
       "       [9.97743607e-01],\n",
       "       [9.98724699e-01],\n",
       "       [9.99994993e-01],\n",
       "       [9.91950512e-01],\n",
       "       [1.55298426e-14],\n",
       "       [9.99998569e-01],\n",
       "       [2.46902704e-02],\n",
       "       [6.17736936e-01],\n",
       "       [1.17225945e-02],\n",
       "       [9.99901175e-01],\n",
       "       [9.99961376e-01],\n",
       "       [5.03749689e-05],\n",
       "       [9.99971271e-01],\n",
       "       [9.89395201e-01],\n",
       "       [9.99888957e-01],\n",
       "       [1.74799279e-05],\n",
       "       [9.98082280e-01],\n",
       "       [9.99127090e-01],\n",
       "       [9.99931931e-01],\n",
       "       [3.08452996e-07],\n",
       "       [9.99988914e-01],\n",
       "       [9.39697027e-04],\n",
       "       [9.97025251e-01],\n",
       "       [9.99558270e-01],\n",
       "       [1.21552348e-02],\n",
       "       [9.99802411e-01],\n",
       "       [9.99996901e-01],\n",
       "       [9.99924779e-01],\n",
       "       [1.54258419e-06],\n",
       "       [9.99719143e-01],\n",
       "       [9.99433935e-01],\n",
       "       [2.47841162e-05],\n",
       "       [9.99905348e-01],\n",
       "       [9.99997020e-01],\n",
       "       [9.99883413e-01],\n",
       "       [9.99995053e-01],\n",
       "       [9.99781609e-01],\n",
       "       [5.52591681e-03],\n",
       "       [9.99944985e-01],\n",
       "       [9.99987364e-01],\n",
       "       [9.99805689e-01],\n",
       "       [1.41327705e-11],\n",
       "       [9.99959826e-01],\n",
       "       [1.04856491e-03],\n",
       "       [9.85961437e-01],\n",
       "       [9.99935985e-01],\n",
       "       [9.51631932e-07],\n",
       "       [9.99989331e-01],\n",
       "       [9.99439120e-01],\n",
       "       [7.31885433e-04],\n",
       "       [8.37072876e-05],\n",
       "       [8.80613911e-08]], dtype=float32)"
      ]
     },
     "execution_count": 28,
     "metadata": {},
     "output_type": "execute_result"
    }
   ],
   "source": [
    "preds = model.predict(validation_generator, verbose=1)\n",
    "preds"
   ]
  },
  {
   "cell_type": "code",
   "execution_count": 29,
   "metadata": {},
   "outputs": [
    {
     "name": "stdout",
     "output_type": "stream",
     "text": [
      "[[1.]\n",
      " [0.]\n",
      " [1.]\n",
      " [0.]\n",
      " [1.]\n",
      " [1.]\n",
      " [0.]\n",
      " [1.]\n",
      " [0.]\n",
      " [0.]\n",
      " [1.]\n",
      " [1.]\n",
      " [1.]\n",
      " [0.]\n",
      " [1.]\n",
      " [1.]\n",
      " [1.]\n",
      " [1.]\n",
      " [1.]\n",
      " [1.]\n",
      " [1.]\n",
      " [1.]\n",
      " [1.]\n",
      " [1.]\n",
      " [1.]\n",
      " [1.]\n",
      " [1.]\n",
      " [1.]\n",
      " [1.]\n",
      " [0.]\n",
      " [1.]\n",
      " [0.]\n",
      " [1.]\n",
      " [1.]\n",
      " [1.]\n",
      " [1.]\n",
      " [1.]\n",
      " [1.]\n",
      " [1.]\n",
      " [0.]\n",
      " [1.]\n",
      " [1.]\n",
      " [0.]\n",
      " [0.]\n",
      " [0.]\n",
      " [1.]\n",
      " [0.]\n",
      " [1.]\n",
      " [1.]\n",
      " [1.]\n",
      " [0.]\n",
      " [0.]\n",
      " [1.]\n",
      " [1.]\n",
      " [0.]\n",
      " [0.]\n",
      " [1.]\n",
      " [0.]\n",
      " [0.]\n",
      " [1.]\n",
      " [1.]\n",
      " [1.]\n",
      " [1.]\n",
      " [1.]\n",
      " [1.]\n",
      " [1.]\n",
      " [1.]\n",
      " [0.]\n",
      " [0.]\n",
      " [1.]\n",
      " [1.]\n",
      " [1.]\n",
      " [0.]\n",
      " [1.]\n",
      " [1.]\n",
      " [1.]\n",
      " [0.]\n",
      " [0.]\n",
      " [1.]\n",
      " [0.]\n",
      " [1.]\n",
      " [0.]\n",
      " [1.]\n",
      " [0.]\n",
      " [0.]\n",
      " [1.]\n",
      " [0.]\n",
      " [0.]\n",
      " [0.]\n",
      " [1.]\n",
      " [1.]\n",
      " [0.]\n",
      " [0.]\n",
      " [1.]\n",
      " [1.]\n",
      " [0.]\n",
      " [1.]\n",
      " [1.]\n",
      " [1.]\n",
      " [0.]\n",
      " [1.]\n",
      " [1.]\n",
      " [1.]\n",
      " [0.]\n",
      " [0.]\n",
      " [1.]\n",
      " [1.]\n",
      " [1.]\n",
      " [1.]\n",
      " [1.]\n",
      " [0.]\n",
      " [1.]\n",
      " [1.]\n",
      " [1.]\n",
      " [1.]\n",
      " [0.]\n",
      " [0.]\n",
      " [0.]\n",
      " [1.]\n",
      " [1.]\n",
      " [1.]\n",
      " [0.]\n",
      " [0.]\n",
      " [1.]\n",
      " [0.]\n",
      " [0.]\n",
      " [1.]\n",
      " [0.]\n",
      " [1.]\n",
      " [1.]\n",
      " [0.]\n",
      " [1.]\n",
      " [1.]\n",
      " [1.]\n",
      " [1.]\n",
      " [0.]\n",
      " [1.]\n",
      " [1.]\n",
      " [1.]\n",
      " [1.]\n",
      " [1.]\n",
      " [0.]\n",
      " [0.]\n",
      " [1.]\n",
      " [0.]\n",
      " [0.]\n",
      " [1.]\n",
      " [1.]\n",
      " [0.]\n",
      " [1.]\n",
      " [1.]\n",
      " [0.]\n",
      " [1.]\n",
      " [0.]\n",
      " [1.]\n",
      " [1.]\n",
      " [1.]\n",
      " [1.]\n",
      " [0.]\n",
      " [1.]\n",
      " [1.]\n",
      " [1.]\n",
      " [0.]\n",
      " [1.]\n",
      " [0.]\n",
      " [0.]\n",
      " [1.]\n",
      " [0.]\n",
      " [0.]\n",
      " [0.]\n",
      " [1.]\n",
      " [0.]\n",
      " [0.]\n",
      " [0.]\n",
      " [1.]\n",
      " [0.]\n",
      " [0.]\n",
      " [1.]\n",
      " [1.]\n",
      " [0.]\n",
      " [1.]\n",
      " [1.]\n",
      " [1.]\n",
      " [0.]\n",
      " [1.]\n",
      " [0.]\n",
      " [1.]\n",
      " [1.]\n",
      " [0.]\n",
      " [0.]\n",
      " [1.]\n",
      " [1.]\n",
      " [0.]\n",
      " [1.]\n",
      " [0.]\n",
      " [0.]\n",
      " [1.]\n",
      " [1.]\n",
      " [0.]\n",
      " [1.]\n",
      " [1.]\n",
      " [1.]\n",
      " [1.]\n",
      " [1.]\n",
      " [0.]\n",
      " [1.]\n",
      " [1.]\n",
      " [1.]\n",
      " [1.]\n",
      " [0.]\n",
      " [1.]\n",
      " [1.]\n",
      " [1.]\n",
      " [0.]\n",
      " [0.]\n",
      " [1.]\n",
      " [1.]\n",
      " [1.]\n",
      " [0.]\n",
      " [1.]\n",
      " [0.]\n",
      " [1.]\n",
      " [1.]\n",
      " [1.]\n",
      " [1.]\n",
      " [1.]\n",
      " [1.]\n",
      " [1.]\n",
      " [1.]\n",
      " [0.]\n",
      " [1.]\n",
      " [1.]\n",
      " [1.]\n",
      " [0.]\n",
      " [1.]\n",
      " [1.]\n",
      " [1.]\n",
      " [0.]\n",
      " [1.]\n",
      " [0.]\n",
      " [1.]\n",
      " [1.]\n",
      " [0.]\n",
      " [0.]\n",
      " [1.]\n",
      " [1.]\n",
      " [0.]\n",
      " [0.]\n",
      " [1.]\n",
      " [1.]\n",
      " [0.]\n",
      " [0.]\n",
      " [1.]\n",
      " [1.]\n",
      " [0.]\n",
      " [1.]\n",
      " [1.]\n",
      " [1.]\n",
      " [0.]\n",
      " [0.]\n",
      " [0.]\n",
      " [1.]\n",
      " [1.]\n",
      " [1.]\n",
      " [1.]\n",
      " [1.]\n",
      " [1.]\n",
      " [1.]\n",
      " [1.]\n",
      " [1.]\n",
      " [0.]\n",
      " [1.]\n",
      " [1.]\n",
      " [1.]\n",
      " [0.]\n",
      " [1.]\n",
      " [1.]\n",
      " [1.]\n",
      " [1.]\n",
      " [0.]\n",
      " [1.]\n",
      " [0.]\n",
      " [1.]\n",
      " [0.]\n",
      " [1.]\n",
      " [0.]\n",
      " [1.]\n",
      " [0.]\n",
      " [1.]\n",
      " [1.]\n",
      " [1.]\n",
      " [1.]\n",
      " [1.]\n",
      " [1.]\n",
      " [1.]\n",
      " [1.]\n",
      " [1.]\n",
      " [0.]\n",
      " [1.]\n",
      " [1.]\n",
      " [1.]\n",
      " [1.]\n",
      " [0.]\n",
      " [1.]\n",
      " [0.]\n",
      " [1.]\n",
      " [0.]\n",
      " [1.]\n",
      " [1.]\n",
      " [0.]\n",
      " [1.]\n",
      " [1.]\n",
      " [1.]\n",
      " [0.]\n",
      " [1.]\n",
      " [1.]\n",
      " [1.]\n",
      " [0.]\n",
      " [1.]\n",
      " [0.]\n",
      " [1.]\n",
      " [1.]\n",
      " [0.]\n",
      " [1.]\n",
      " [1.]\n",
      " [1.]\n",
      " [0.]\n",
      " [1.]\n",
      " [1.]\n",
      " [0.]\n",
      " [1.]\n",
      " [1.]\n",
      " [1.]\n",
      " [1.]\n",
      " [1.]\n",
      " [0.]\n",
      " [1.]\n",
      " [1.]\n",
      " [1.]\n",
      " [0.]\n",
      " [1.]\n",
      " [0.]\n",
      " [1.]\n",
      " [1.]\n",
      " [0.]\n",
      " [1.]\n",
      " [1.]\n",
      " [0.]\n",
      " [0.]\n",
      " [0.]]\n"
     ]
    }
   ],
   "source": [
    "predictions = preds.copy()\n",
    "predictions[predictions <= 0.5] = 0\n",
    "predictions[predictions > 0.5] = 1\n",
    "\n",
    "print(predictions)"
   ]
  },
  {
   "cell_type": "code",
   "execution_count": null,
   "metadata": {},
   "outputs": [],
   "source": []
  }
 ],
 "metadata": {
  "kernelspec": {
   "display_name": "Python 3",
   "language": "python",
   "name": "python3"
  },
  "language_info": {
   "codemirror_mode": {
    "name": "ipython",
    "version": 3
   },
   "file_extension": ".py",
   "mimetype": "text/x-python",
   "name": "python",
   "nbconvert_exporter": "python",
   "pygments_lexer": "ipython3",
   "version": "3.8.5"
  }
 },
 "nbformat": 4,
 "nbformat_minor": 4
}
